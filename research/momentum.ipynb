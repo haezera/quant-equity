{
 "cells": [
  {
   "cell_type": "markdown",
   "id": "72f2bcba",
   "metadata": {},
   "source": [
    "## Momentum\n",
    "\n",
    "Momentu"
   ]
  }
 ],
 "metadata": {
  "language_info": {
   "name": "python"
  }
 },
 "nbformat": 4,
 "nbformat_minor": 5
}
