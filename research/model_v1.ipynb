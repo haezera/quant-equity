{
 "cells": [
  {
   "cell_type": "markdown",
   "id": "c6923df6",
   "metadata": {},
   "source": [
    "We now look to model forward returns with our four factor styles, `MOMENTUM`, `GROWTH`, `VALUE` and `SIZE`."
   ]
  },
  {
   "cell_type": "code",
   "execution_count": 1,
   "id": "02fb7cbd",
   "metadata": {},
   "outputs": [],
   "source": [
    "import pandas as pd\n",
    "from sqlalchemy import create_engine\n",
    "from dotenv import load_dotenv\n",
    "import os\n",
    "import yaml\n",
    "from datetime import date\n",
    "import numpy as np\n",
    "import matplotlib.pyplot as plt\n",
    "from scipy.stats.mstats import winsorize\n",
    "from sklearn.linear_model import LinearRegression\n",
    "import seaborn as sns\n",
    "\n",
    "load_dotenv()\n",
    "\n",
    "# .env variables\n",
    "db_url = os.getenv('DB_URL')\n",
    "constituents_table = os.getenv('CONSTITUENTS_TABLE')\n",
    "prices_table = os.getenv('PRICES_TABLE')\n",
    "\n",
    "# connection to sql database\n",
    "psql = create_engine(db_url)"
   ]
  },
  {
   "cell_type": "code",
   "execution_count": 2,
   "id": "0f468f45",
   "metadata": {},
   "outputs": [],
   "source": [
    "adjusted_monthly = pd.read_sql(\"\"\"\n",
    "    select\n",
    "        *\n",
    "    from\n",
    "        adjusted_monthly\n",
    "    \"\"\",\n",
    "    psql\n",
    ")\n",
    "\n",
    "adjusted_monthly['adj_return'] = np.log(adjusted_monthly['adj_close'] / adjusted_monthly['adj_close'].shift())\n",
    "adjusted_monthly['adj_return_fwd'] = adjusted_monthly['adj_return'].shift(-1)\n",
    "adjusted_monthly = adjusted_monthly.dropna()"
   ]
  },
  {
   "cell_type": "code",
   "execution_count": 11,
   "id": "4abc6b97",
   "metadata": {},
   "outputs": [],
   "source": [
    "factor_composites = pd.read_sql(\"\"\"\n",
    "    select * from factor_composites\n",
    "\"\"\", psql).drop_duplicates()\n",
    "\n",
    "wide_factor_data = (\n",
    "    factor_composites\n",
    "        .pivot(index=['date', 'ticker'], columns='style', values='score')\n",
    "        .reset_index()\n",
    "        .dropna()\n",
    ")"
   ]
  },
  {
   "cell_type": "code",
   "execution_count": 13,
   "id": "a689d4e7",
   "metadata": {},
   "outputs": [],
   "source": [
    "monthly_factor = adjusted_monthly.merge(wide_factor_data, on=['date', 'ticker'])"
   ]
  }
 ],
 "metadata": {
  "kernelspec": {
   "display_name": "research",
   "language": "python",
   "name": "python3"
  },
  "language_info": {
   "codemirror_mode": {
    "name": "ipython",
    "version": 3
   },
   "file_extension": ".py",
   "mimetype": "text/x-python",
   "name": "python",
   "nbconvert_exporter": "python",
   "pygments_lexer": "ipython3",
   "version": "3.12.2"
  }
 },
 "nbformat": 4,
 "nbformat_minor": 5
}
